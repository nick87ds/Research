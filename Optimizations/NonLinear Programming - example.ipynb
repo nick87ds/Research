{
 "cells": [
  {
   "cell_type": "markdown",
   "id": "b157a539",
   "metadata": {},
   "source": [
    "# NonLinear Programming"
   ]
  },
  {
   "cell_type": "markdown",
   "id": "6580d7d8",
   "metadata": {},
   "source": [
    "##### Funzione"
   ]
  },
  {
   "cell_type": "markdown",
   "id": "915bcec4",
   "metadata": {},
   "source": [
    "$$\n",
    "f(x,y,z) = -(2x^2+7x+5y+z) \\\\\n",
    "$$"
   ]
  },
  {
   "cell_type": "markdown",
   "id": "5c1a445a",
   "metadata": {},
   "source": [
    "##### Vincoli"
   ]
  },
  {
   "cell_type": "markdown",
   "id": "89bf94ef",
   "metadata": {},
   "source": [
    "$$\n",
    "    -x-2y-3z >= -8 \\\\\n",
    "    +2x-3y-z >= -6 \\\\\n",
    "    x >= 0 \\\\\n",
    "    y >= 0 \\\\\n",
    "    z >= 0 \n",
    "$$"
   ]
  },
  {
   "cell_type": "markdown",
   "id": "83c8e262",
   "metadata": {},
   "source": [
    "## Scipy"
   ]
  },
  {
   "cell_type": "code",
   "execution_count": 1,
   "id": "1b5c6904",
   "metadata": {},
   "outputs": [],
   "source": [
    "import numpy as np\n",
    "from scipy.optimize import least_squares, minimize"
   ]
  },
  {
   "cell_type": "code",
   "execution_count": 2,
   "id": "cf1126b0",
   "metadata": {},
   "outputs": [],
   "source": [
    "def fn_target(x):\n",
    "    \n",
    "    z = x[2]\n",
    "    y = x[1]\n",
    "    x = x[0]\n",
    "    \n",
    "    return -1*(2*𝑥**2+7*𝑥+5*𝑦+𝑧)"
   ]
  },
  {
   "cell_type": "code",
   "execution_count": 3,
   "id": "0743dbbe",
   "metadata": {},
   "outputs": [],
   "source": [
    "def constraint_1(x):\n",
    "    \n",
    "    z = x[2]\n",
    "    y = x[1]\n",
    "    x = x[0]\n",
    "    \n",
    "    return -𝑥 -2*𝑦 -3*𝑧 - 8"
   ]
  },
  {
   "cell_type": "code",
   "execution_count": 4,
   "id": "247d74a7",
   "metadata": {},
   "outputs": [],
   "source": [
    "def constraint_2(x):\n",
    "    \n",
    "    z = x[2]\n",
    "    y = x[1]\n",
    "    x = x[0]\n",
    "    \n",
    "    return +2*𝑥 -3*𝑦 -𝑧 - 6"
   ]
  },
  {
   "cell_type": "code",
   "execution_count": 5,
   "id": "74e6c7d2",
   "metadata": {},
   "outputs": [
    {
     "data": {
      "text/plain": [
       "array([75, 27,  6])"
      ]
     },
     "execution_count": 5,
     "metadata": {},
     "output_type": "execute_result"
    }
   ],
   "source": [
    "np.random.seed(12)\n",
    "x0 = np.random.randint(low=[100],size=3)\n",
    "x0"
   ]
  },
  {
   "cell_type": "code",
   "execution_count": 6,
   "id": "e55d9448",
   "metadata": {},
   "outputs": [
    {
     "name": "stdout",
     "output_type": "stream",
     "text": [
      "-11916\n"
     ]
    }
   ],
   "source": [
    "print(fn_target(x0))"
   ]
  },
  {
   "cell_type": "code",
   "execution_count": 7,
   "id": "6e03b0d1",
   "metadata": {},
   "outputs": [],
   "source": [
    "b = (0.0,None)\n",
    "bnds = (b,b,b)"
   ]
  },
  {
   "cell_type": "code",
   "execution_count": 8,
   "id": "e83a3886",
   "metadata": {},
   "outputs": [],
   "source": [
    "con1 = {'type':'ineq', 'fun':constraint_1}\n",
    "con2 = {'type':'ineq', 'fun':constraint_2}\n",
    "cons = [con1, con2]"
   ]
  },
  {
   "cell_type": "code",
   "execution_count": 9,
   "id": "bb9f3c91",
   "metadata": {},
   "outputs": [],
   "source": [
    "solution = minimize(\n",
    "    fun = fn_target,\n",
    "    x0 = x0,\n",
    "    args=(),\n",
    "    method='SLSQP',\n",
    "    jac=None,\n",
    "    hess=None,\n",
    "    hessp=None,\n",
    "    bounds=bnds,\n",
    "    constraints=cons,\n",
    "    tol=None,\n",
    "    callback=None,\n",
    "    options={'maxiter':100},\n",
    ")"
   ]
  },
  {
   "cell_type": "code",
   "execution_count": 10,
   "id": "2d362b77",
   "metadata": {},
   "outputs": [],
   "source": [
    "if solution.success:\n",
    "    print(solution)"
   ]
  },
  {
   "cell_type": "code",
   "execution_count": 11,
   "id": "0b60b3ef",
   "metadata": {},
   "outputs": [
    {
     "data": {
      "text/plain": [
       "-44247.000002906025"
      ]
     },
     "execution_count": 11,
     "metadata": {},
     "output_type": "execute_result"
    }
   ],
   "source": [
    "fn_target(solution.x)"
   ]
  },
  {
   "cell_type": "markdown",
   "id": "0696e005",
   "metadata": {},
   "source": [
    "## GEKKO"
   ]
  },
  {
   "cell_type": "code",
   "execution_count": 12,
   "id": "14174abe",
   "metadata": {},
   "outputs": [],
   "source": [
    "import numpy as np\n",
    "from gekko import GEKKO"
   ]
  },
  {
   "cell_type": "code",
   "execution_count": 13,
   "id": "8c619e5c",
   "metadata": {},
   "outputs": [],
   "source": [
    "m = GEKKO(remote=False)"
   ]
  },
  {
   "cell_type": "code",
   "execution_count": 14,
   "id": "f96d6120",
   "metadata": {},
   "outputs": [],
   "source": [
    "x,y,z = m.Array(m.Var, 3, lb=0, ub=None, integer=False)"
   ]
  },
  {
   "cell_type": "code",
   "execution_count": 15,
   "id": "3ff8bdb1",
   "metadata": {},
   "outputs": [],
   "source": [
    "m.Minimize(-1*(2*𝑥**2+7*𝑥+5*𝑦+𝑧))"
   ]
  },
  {
   "cell_type": "code",
   "execution_count": 16,
   "id": "8de22051",
   "metadata": {},
   "outputs": [
    {
     "data": {
      "text/plain": [
       "<gekko.gekko.EquationObj at 0x7f9916bd5be0>"
      ]
     },
     "execution_count": 16,
     "metadata": {},
     "output_type": "execute_result"
    }
   ],
   "source": [
    "m.Equation(  -𝑥 -2*𝑦 -3*𝑧 >= -8)\n",
    "m.Equation(+2*𝑥 -3*𝑦   -𝑧 >= -6)"
   ]
  },
  {
   "cell_type": "code",
   "execution_count": 17,
   "id": "8c0f00a3",
   "metadata": {},
   "outputs": [],
   "source": [
    "m.solve(disp=False)"
   ]
  },
  {
   "cell_type": "code",
   "execution_count": 18,
   "id": "e645e759",
   "metadata": {},
   "outputs": [
    {
     "name": "stdout",
     "output_type": "stream",
     "text": [
      "Soluzione ottimale: x = 8.00 , y = 0.00, z = 0.00\n",
      "Valore massimo: 184.00\n"
     ]
    }
   ],
   "source": [
    "print(f'Soluzione ottimale: x = {x.value[0]:.2f} , y = {y.value[0]:.2f}, z = {z.value[0]:.2f}')\n",
    "print(f'Valore massimo: {-m.options.OBJFCNVAL:.2f}')"
   ]
  },
  {
   "cell_type": "code",
   "execution_count": 19,
   "id": "e246832c",
   "metadata": {},
   "outputs": [],
   "source": [
    "from hyperopt import fmin, tpe, hp\n",
    "from hyperopt import STATUS_OK, STATUS_FAIL"
   ]
  },
  {
   "cell_type": "code",
   "execution_count": 20,
   "id": "52838c2e",
   "metadata": {},
   "outputs": [],
   "source": [
    "# hyperparameters space\n",
    "space = {\n",
    "    \n",
    "    'x':hp.quniform('x', 0, 100, 3),\n",
    "    'y':hp.quniform('y', 0, 100, 3),\n",
    "    'z':hp.quniform('z', 0, 100, 3),\n",
    "}"
   ]
  },
  {
   "cell_type": "code",
   "execution_count": 21,
   "id": "4b801878",
   "metadata": {},
   "outputs": [],
   "source": [
    "def objective(params):\n",
    "    \n",
    "    m = GEKKO(remote=False)\n",
    "    \n",
    "    variables = m.Array(m.Var, 3, lb=0, ub=None, integer=False)\n",
    "    x,y,z = variables\n",
    "    \n",
    "    x.value = params['x']\n",
    "    y.value = params['y']\n",
    "    z.value = params['z']\n",
    "\n",
    "    m.Minimize(-1*(2*𝑥**2+7*𝑥+5*𝑦+𝑧))\n",
    "    \n",
    "    m.Equations([  -𝑥 -2*𝑦 -3*𝑧 >= -8,\n",
    "               +2*𝑥 -3*𝑦   -𝑧 >= -6])\n",
    "        \n",
    "    m.solve(disp=False, debug=False)\n",
    "    \n",
    "    obj = m.options.OBJFCNVAL\n",
    "    \n",
    "    if m.options.APPSTATUS==1:\n",
    "        s=STATUS_OK\n",
    "    else:\n",
    "        s=STATUS_FAIL\n",
    "        \n",
    "    m.cleanup()\n",
    "    \n",
    "    return {'loss':obj, 'status':s, 'x':variables}"
   ]
  },
  {
   "cell_type": "code",
   "execution_count": 22,
   "id": "705fc984",
   "metadata": {},
   "outputs": [
    {
     "name": "stdout",
     "output_type": "stream",
     "text": [
      "100%|████████████████████████████████████████████████████████████████████████████████████████████████████████████████████████████████████████████████| 50/50 [00:02<00:00, 20.15trial/s, best loss: -184.0]\n"
     ]
    }
   ],
   "source": [
    "best = fmin(objective, space, algo=tpe.suggest, max_evals=50)"
   ]
  },
  {
   "cell_type": "code",
   "execution_count": 23,
   "id": "de4d9c12",
   "metadata": {},
   "outputs": [
    {
     "name": "stdout",
     "output_type": "stream",
     "text": [
      "{'x': 90.0, 'y': 3.0, 'z': 24.0}\n"
     ]
    }
   ],
   "source": [
    "print(best)"
   ]
  },
  {
   "cell_type": "code",
   "execution_count": 24,
   "id": "2fd8fb7a",
   "metadata": {},
   "outputs": [],
   "source": [
    "sol = objective(best)"
   ]
  },
  {
   "cell_type": "code",
   "execution_count": 25,
   "id": "019b929e",
   "metadata": {},
   "outputs": [
    {
     "name": "stdout",
     "output_type": "stream",
     "text": [
      "{'loss': -184.0, 'status': 'ok', 'x': array([[8.0], [0.0], [0.0]], dtype=object)}\n"
     ]
    }
   ],
   "source": [
    "print(sol)"
   ]
  },
  {
   "cell_type": "markdown",
   "id": "f5795e58",
   "metadata": {},
   "source": [
    "# TensorFlow"
   ]
  },
  {
   "cell_type": "code",
   "execution_count": 26,
   "id": "361b1b35",
   "metadata": {},
   "outputs": [],
   "source": [
    "import os\n",
    "os.environ['TF_CPP_MIN_LOG_LEVEL'] = '2'"
   ]
  },
  {
   "cell_type": "code",
   "execution_count": 27,
   "id": "e0eb8c4f",
   "metadata": {},
   "outputs": [],
   "source": [
    "import tensorflow as tf"
   ]
  },
  {
   "cell_type": "code",
   "execution_count": 28,
   "id": "fda66aa7",
   "metadata": {},
   "outputs": [
    {
     "name": "stdout",
     "output_type": "stream",
     "text": [
      "Version:  2.8.0\n",
      "Eager mode:  True\n",
      "GPU is available\n"
     ]
    }
   ],
   "source": [
    "print(\"Version: \", tf.__version__)\n",
    "print(\"Eager mode: \", tf.executing_eagerly())\n",
    "print(\"GPU is\", \"available\" if tf.config.experimental.list_physical_devices(\"GPU\") else \"non available\")"
   ]
  },
  {
   "cell_type": "code",
   "execution_count": 55,
   "id": "5464dd76",
   "metadata": {},
   "outputs": [
    {
     "name": "stdout",
     "output_type": "stream",
     "text": [
      "iter n.100:\n",
      "    target=-901.630126953125 \n",
      "    x=18.681833267211914 y=12.152972221374512 z=12.070684432983398\n",
      "\n",
      "iter n.200:\n",
      "    target=-994.0947875976562 \n",
      "    x=19.7137393951416 y=13.152995109558105 z=13.070707321166992\n",
      "\n",
      "iter n.300:\n",
      "    target=-1092.8414306640625 \n",
      "    x=20.768112182617188 y=14.1530179977417 z=14.070730209350586\n",
      "\n",
      "iter n.400:\n",
      "    target=-1198.0001220703125 \n",
      "    x=21.84331512451172 y=15.153040885925293 z=15.07075309753418\n",
      "\n",
      "iter n.500:\n",
      "    target=-1309.674072265625 \n",
      "    x=22.937679290771484 y=16.15306282043457 z=16.070775985717773\n",
      "\n"
     ]
    }
   ],
   "source": [
    "tf.random.set_seed(100)\n",
    "\n",
    "# optimizer = tf.keras.optimizers.SGD(learning_rate=0.01)\n",
    "# optimizer = tf.keras.optimizers.RMSprop(learning_rate=0.01)\n",
    "optimizer = tf.keras.optimizers.Adam(learning_rate=0.01)\n",
    "\n",
    "variable_initializer = tf.random_uniform_initializer(minval=10, maxval=20)\n",
    "\n",
    "variable_initializer(shape=[1,])\n",
    "\n",
    "x = tf.Variable(variable_initializer(shape=[1,]), dtype=tf.float32)\n",
    "y = tf.Variable(variable_initializer(shape=[1,]), dtype=tf.float32)\n",
    "z = tf.Variable(variable_initializer(shape=[1,]), dtype=tf.float32)\n",
    "\n",
    "fn_target = lambda: -1*(2*𝑥**2 +7*𝑥 +5*𝑦 +𝑧)\n",
    "\n",
    "i = 0\n",
    "\n",
    "with tf.GradientTape() as g:\n",
    "    g.watch(x)\n",
    "    g.watch(y)\n",
    "    g.watch(z)\n",
    "\n",
    "#     t = fn_target()\n",
    "#     gradients = g.gradient(t, sources=[x,y,z])\n",
    "#     sdg.apply_gradients(zip(gradients, [x,y]))\n",
    "\n",
    "    while abs(fn_target() - 0) >= 0.01:\n",
    "        i = i + 1\n",
    "        n = optimizer.minimize(fn_target, var_list=[x,y,z])\n",
    "        \n",
    "        if i % 100 == 0:\n",
    "            print(f\"iter n.{i}:\\n    target={fn_target()[0]} \\n    x={x.numpy()[0]} y={y.numpy()[0]} z={z.numpy()[0]}\\n\")\n",
    "\n",
    "        if i == 500:\n",
    "            break"
   ]
  },
  {
   "cell_type": "code",
   "execution_count": 30,
   "id": "fd7ac6cb",
   "metadata": {},
   "outputs": [
    {
     "data": {
      "text/plain": [
       "array([22.93768], dtype=float32)"
      ]
     },
     "execution_count": 30,
     "metadata": {},
     "output_type": "execute_result"
    }
   ],
   "source": [
    "x.numpy()"
   ]
  },
  {
   "cell_type": "code",
   "execution_count": 31,
   "id": "9688fc94",
   "metadata": {},
   "outputs": [
    {
     "data": {
      "text/plain": [
       "array([16.153063], dtype=float32)"
      ]
     },
     "execution_count": 31,
     "metadata": {},
     "output_type": "execute_result"
    }
   ],
   "source": [
    "y.numpy()"
   ]
  },
  {
   "cell_type": "code",
   "execution_count": 32,
   "id": "ec58bffd",
   "metadata": {},
   "outputs": [
    {
     "data": {
      "text/plain": [
       "array([16.070776], dtype=float32)"
      ]
     },
     "execution_count": 32,
     "metadata": {},
     "output_type": "execute_result"
    }
   ],
   "source": [
    "z.numpy()"
   ]
  },
  {
   "cell_type": "code",
   "execution_count": 33,
   "id": "68f7e50a",
   "metadata": {},
   "outputs": [
    {
     "data": {
      "text/plain": [
       "<tf.Tensor: shape=(1,), dtype=float32, numpy=array([-1309.6741], dtype=float32)>"
      ]
     },
     "execution_count": 33,
     "metadata": {},
     "output_type": "execute_result"
    }
   ],
   "source": [
    "fn_target()"
   ]
  },
  {
   "cell_type": "code",
   "execution_count": 34,
   "id": "b1e4ff5b",
   "metadata": {},
   "outputs": [
    {
     "data": {
      "text/plain": [
       "array([-111.45613], dtype=float32)"
      ]
     },
     "execution_count": 34,
     "metadata": {},
     "output_type": "execute_result"
    }
   ],
   "source": [
    "constraint_1([x.numpy(),y.numpy(),z.numpy()])"
   ]
  },
  {
   "cell_type": "code",
   "execution_count": 35,
   "id": "9b2d1b53",
   "metadata": {},
   "outputs": [
    {
     "data": {
      "text/plain": [
       "array([-24.654608], dtype=float32)"
      ]
     },
     "execution_count": 35,
     "metadata": {},
     "output_type": "execute_result"
    }
   ],
   "source": [
    "constraint_2([x.numpy(),y.numpy(),z.numpy()])"
   ]
  }
 ],
 "metadata": {
  "kernelspec": {
   "display_name": "Python 3 (ipykernel)",
   "language": "python",
   "name": "python3"
  },
  "language_info": {
   "codemirror_mode": {
    "name": "ipython",
    "version": 3
   },
   "file_extension": ".py",
   "mimetype": "text/x-python",
   "name": "python",
   "nbconvert_exporter": "python",
   "pygments_lexer": "ipython3",
   "version": "3.8.0"
  }
 },
 "nbformat": 4,
 "nbformat_minor": 5
}
