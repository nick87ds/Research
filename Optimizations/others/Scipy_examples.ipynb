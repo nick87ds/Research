{
 "cells": [
  {
   "cell_type": "code",
   "execution_count": 1,
   "id": "a8333a6f",
   "metadata": {},
   "outputs": [],
   "source": [
    "import numpy as np\n",
    "from scipy.optimize import minimize"
   ]
  },
  {
   "cell_type": "markdown",
   "id": "5e31273c",
   "metadata": {},
   "source": [
    "### Non Linear Programming"
   ]
  },
  {
   "cell_type": "markdown",
   "id": "313ca276",
   "metadata": {},
   "source": [
    "min x1x4(x1+x2+x3)+x3\n",
    "\n",
    "s.t. x1x2x3x4 >= 25\n",
    " \n",
    "x1^2 + x2^2 + x3^2 + x4^2 = 40\n",
    "\n",
    "1 <= x1,x2,x3,x4 <= 5\n",
    "\n",
    "x0 = (1,5,5,1)"
   ]
  },
  {
   "cell_type": "code",
   "execution_count": 2,
   "id": "bce78fac",
   "metadata": {},
   "outputs": [],
   "source": [
    "def objective(x):\n",
    "    \n",
    "    x1 = x[0]\n",
    "    x2 = x[1]\n",
    "    x3 = x[2]\n",
    "    x4 = x[3]\n",
    "    \n",
    "    return x1*x4*(x1+x2+x3)+x3"
   ]
  },
  {
   "cell_type": "code",
   "execution_count": 3,
   "id": "fa2b286a",
   "metadata": {},
   "outputs": [],
   "source": [
    "def constraint_1(x):\n",
    "    \n",
    "    return x[0]*x[1]*x[2]*x[3]-25.0"
   ]
  },
  {
   "cell_type": "code",
   "execution_count": 4,
   "id": "c8587477",
   "metadata": {},
   "outputs": [],
   "source": [
    "def constraint_2(x):\n",
    "    \n",
    "    sum_sq = 40\n",
    "    \n",
    "    for i in range(4):\n",
    "        sum_sq = sum_sq - x[i]**2\n",
    "        \n",
    "    return sum_sq"
   ]
  },
  {
   "cell_type": "code",
   "execution_count": 5,
   "id": "b4ebb1ad",
   "metadata": {},
   "outputs": [],
   "source": [
    "x0 = [1,5,5,1]"
   ]
  },
  {
   "cell_type": "code",
   "execution_count": 6,
   "id": "c880cbb4",
   "metadata": {},
   "outputs": [
    {
     "name": "stdout",
     "output_type": "stream",
     "text": [
      "16\n"
     ]
    }
   ],
   "source": [
    "print(objective(x0))"
   ]
  },
  {
   "cell_type": "code",
   "execution_count": 7,
   "id": "6ebb2ef0",
   "metadata": {},
   "outputs": [],
   "source": [
    "b = (1.0,5.0)\n",
    "bnds = (b,b,b,b)"
   ]
  },
  {
   "cell_type": "code",
   "execution_count": 8,
   "id": "1847df88",
   "metadata": {},
   "outputs": [],
   "source": [
    "con1 = {'type':'ineq', 'fun':constraint_1}\n",
    "con2 = {'type':'eq', 'fun':constraint_2}\n",
    "\n",
    "cons = [con1, con2]"
   ]
  },
  {
   "cell_type": "code",
   "execution_count": 9,
   "id": "92f8df6f",
   "metadata": {},
   "outputs": [],
   "source": [
    "solution = minimize(\n",
    "    fun = objective,\n",
    "    x0 = x0,\n",
    "    args=(),\n",
    "    method='SLSQP',\n",
    "    jac=None,\n",
    "    hess=None,\n",
    "    hessp=None,\n",
    "    bounds=bnds,\n",
    "    constraints=cons,\n",
    "    tol=None,\n",
    "    callback=None,\n",
    "    options={'maxiter':10},\n",
    ")"
   ]
  },
  {
   "cell_type": "code",
   "execution_count": 10,
   "id": "f9aa9af8",
   "metadata": {},
   "outputs": [
    {
     "name": "stdout",
     "output_type": "stream",
     "text": [
      "     fun: 17.01401724563517\n",
      "     jac: array([14.57227015,  1.37940764,  2.37940764,  9.56415057])\n",
      " message: 'Optimization terminated successfully'\n",
      "    nfev: 25\n",
      "     nit: 5\n",
      "    njev: 5\n",
      "  status: 0\n",
      " success: True\n",
      "       x: array([1.        , 4.7429961 , 3.82115462, 1.37940765])\n"
     ]
    }
   ],
   "source": [
    "if solution.success:\n",
    "    print(solution)"
   ]
  },
  {
   "cell_type": "code",
   "execution_count": null,
   "id": "b3df1095",
   "metadata": {},
   "outputs": [],
   "source": []
  },
  {
   "cell_type": "code",
   "execution_count": 15,
   "id": "ea0da13f",
   "metadata": {},
   "outputs": [],
   "source": [
    "from scipy.optimize import linprog"
   ]
  },
  {
   "cell_type": "code",
   "execution_count": 16,
   "id": "c56f8dff",
   "metadata": {},
   "outputs": [],
   "source": [
    "# Object function\n",
    "c = [-1, 4] # -x +4y"
   ]
  },
  {
   "cell_type": "code",
   "execution_count": 19,
   "id": "76924eba",
   "metadata": {},
   "outputs": [],
   "source": [
    "# Constraints\n",
    "\n",
    "A_u = np.array([[3,2],[1,5]])\n",
    "b_u = np.array([10, 10])"
   ]
  },
  {
   "cell_type": "code",
   "execution_count": 21,
   "id": "cfdc8085",
   "metadata": {},
   "outputs": [
    {
     "data": {
      "text/plain": [
       "array([[3, 2],\n",
       "       [1, 5]])"
      ]
     },
     "execution_count": 21,
     "metadata": {},
     "output_type": "execute_result"
    }
   ],
   "source": [
    "A_u"
   ]
  },
  {
   "cell_type": "code",
   "execution_count": 22,
   "id": "34b00edb",
   "metadata": {},
   "outputs": [
    {
     "data": {
      "text/plain": [
       "array([10, 10])"
      ]
     },
     "execution_count": 22,
     "metadata": {},
     "output_type": "execute_result"
    }
   ],
   "source": [
    "b_u"
   ]
  },
  {
   "cell_type": "code",
   "execution_count": 20,
   "id": "9e9834d4",
   "metadata": {},
   "outputs": [],
   "source": [
    "# Bounds\n",
    "b = (0, 10) # 0 <= x <= 10"
   ]
  },
  {
   "cell_type": "code",
   "execution_count": 23,
   "id": "284cda74",
   "metadata": {},
   "outputs": [],
   "source": [
    "res = linprog(c, A_ub=A_u, b_ub=b_u, bounds=(b,b), integrality=[1,1])"
   ]
  },
  {
   "cell_type": "code",
   "execution_count": 24,
   "id": "77d5aab0",
   "metadata": {},
   "outputs": [
    {
     "data": {
      "text/plain": [
       "-3.0"
      ]
     },
     "execution_count": 24,
     "metadata": {},
     "output_type": "execute_result"
    }
   ],
   "source": [
    "res.fun"
   ]
  },
  {
   "cell_type": "code",
   "execution_count": 25,
   "id": "b4438577",
   "metadata": {},
   "outputs": [
    {
     "data": {
      "text/plain": [
       "array([3., 0.])"
      ]
     },
     "execution_count": 25,
     "metadata": {},
     "output_type": "execute_result"
    }
   ],
   "source": [
    "res.x"
   ]
  },
  {
   "cell_type": "code",
   "execution_count": null,
   "id": "6e396a26",
   "metadata": {},
   "outputs": [],
   "source": []
  }
 ],
 "metadata": {
  "kernelspec": {
   "display_name": "Python 3 (ipykernel)",
   "language": "python",
   "name": "python3"
  },
  "language_info": {
   "codemirror_mode": {
    "name": "ipython",
    "version": 3
   },
   "file_extension": ".py",
   "mimetype": "text/x-python",
   "name": "python",
   "nbconvert_exporter": "python",
   "pygments_lexer": "ipython3",
   "version": "3.8.0"
  }
 },
 "nbformat": 4,
 "nbformat_minor": 5
}
