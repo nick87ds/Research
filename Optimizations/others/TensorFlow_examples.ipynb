{
 "cells": [
  {
   "cell_type": "code",
   "execution_count": 1,
   "id": "efbdc965",
   "metadata": {},
   "outputs": [],
   "source": [
    "import os\n",
    "os.environ['TF_CPP_MIN_LOG_LEVEL'] = '2'"
   ]
  },
  {
   "cell_type": "code",
   "execution_count": 2,
   "id": "e3eaaecf",
   "metadata": {},
   "outputs": [],
   "source": [
    "# !pip uninstall -y tensorflow"
   ]
  },
  {
   "cell_type": "code",
   "execution_count": 1,
   "id": "1d913fbf",
   "metadata": {},
   "outputs": [],
   "source": [
    "# !pip3 install numba cupy"
   ]
  },
  {
   "cell_type": "code",
   "execution_count": 3,
   "id": "53641aa9",
   "metadata": {},
   "outputs": [],
   "source": [
    "# with tf.device(tf.DeviceSpec(device_type=\"gpu\")):\n",
    "#     pass"
   ]
  },
  {
   "cell_type": "code",
   "execution_count": 4,
   "id": "a98458c2",
   "metadata": {},
   "outputs": [],
   "source": [
    "# !pip install tensorflow-gpu==2.8.0\n",
    "# !pip install protobuf==3.20"
   ]
  },
  {
   "cell_type": "code",
   "execution_count": 5,
   "id": "35bbe112",
   "metadata": {},
   "outputs": [],
   "source": [
    "import tensorflow as tf"
   ]
  },
  {
   "cell_type": "code",
   "execution_count": 6,
   "id": "b5e223df",
   "metadata": {},
   "outputs": [
    {
     "name": "stdout",
     "output_type": "stream",
     "text": [
      "Version:  2.8.0\n",
      "Eager mode:  True\n",
      "GPU is available\n"
     ]
    },
    {
     "name": "stderr",
     "output_type": "stream",
     "text": [
      "2023-03-26 12:56:17.263032: I tensorflow/stream_executor/cuda/cuda_gpu_executor.cc:936] successful NUMA node read from SysFS had negative value (-1), but there must be at least one NUMA node, so returning NUMA node zero\n",
      "2023-03-26 12:56:17.277819: I tensorflow/stream_executor/cuda/cuda_gpu_executor.cc:936] successful NUMA node read from SysFS had negative value (-1), but there must be at least one NUMA node, so returning NUMA node zero\n",
      "2023-03-26 12:56:17.278585: I tensorflow/stream_executor/cuda/cuda_gpu_executor.cc:936] successful NUMA node read from SysFS had negative value (-1), but there must be at least one NUMA node, so returning NUMA node zero\n"
     ]
    }
   ],
   "source": [
    "print(\"Version: \", tf.__version__)\n",
    "print(\"Eager mode: \", tf.executing_eagerly())\n",
    "# print(\"Hub Version: \", hub.__version__)\n",
    "print(\"GPU is\", \"available\" if tf.config.experimental.list_physical_devices(\"GPU\") else \"non available\")"
   ]
  },
  {
   "cell_type": "code",
   "execution_count": 7,
   "id": "e8262399",
   "metadata": {},
   "outputs": [
    {
     "data": {
      "text/plain": [
       "'Version:  2.0.0\\nEager mode:  True\\nHub Version:  0.7.0\\nGPU is available'"
      ]
     },
     "execution_count": 7,
     "metadata": {},
     "output_type": "execute_result"
    }
   ],
   "source": [
    "\"\"\"Version:  2.0.0\n",
    "Eager mode:  True\n",
    "Hub Version:  0.7.0\n",
    "GPU is available\"\"\""
   ]
  },
  {
   "cell_type": "code",
   "execution_count": 8,
   "id": "c6fbf06b",
   "metadata": {},
   "outputs": [],
   "source": [
    "# !pip install --upgrade intel-extension-for-tensorflow[gpu]"
   ]
  },
  {
   "cell_type": "code",
   "execution_count": 9,
   "id": "9bff0513",
   "metadata": {},
   "outputs": [
    {
     "data": {
      "text/plain": [
       "<tensorflow.python.framework.device_spec.DeviceSpecV2 at 0x7fbd97522e80>"
      ]
     },
     "execution_count": 9,
     "metadata": {},
     "output_type": "execute_result"
    }
   ],
   "source": [
    "tf.DeviceSpec(device_type=\"gpu\")"
   ]
  },
  {
   "cell_type": "code",
   "execution_count": 11,
   "id": "aebf7c3c",
   "metadata": {},
   "outputs": [
    {
     "name": "stdout",
     "output_type": "stream",
     "text": [
      "x=2.694846845674448e-10 y=2.694846845674448e-10 z=-0.0003815889358520508\n",
      "1250\n",
      "CPU times: user 1.24 s, sys: 0 ns, total: 1.24 s\n",
      "Wall time: 1.24 s\n"
     ]
    }
   ],
   "source": [
    "%%time\n",
    "# with tf.device(tf.DeviceSpec(device_type=\"cpu\")):\n",
    "with tf.device('cpu'):\n",
    "\n",
    "    sdg = tf.keras.optimizers.SGD(learning_rate=0.01)\n",
    "    rmsprop = tf.keras.optimizers.RMSprop(learning_rate=0.01)\n",
    "    adam = tf.keras.optimizers.Adam(learning_rate=0.01)\n",
    "\n",
    "    x = tf.Variable(25.0, dtype=tf.float32)\n",
    "    y = tf.Variable(25.0, dtype=tf.float32)\n",
    "    z = tf.Variable(25.0, dtype=tf.float32)\n",
    "\n",
    "    fn_target = lambda: x**2+y**2+2*z\n",
    "\n",
    "    i = 0\n",
    "\n",
    "    with tf.GradientTape() as g:\n",
    "        g.watch(x)\n",
    "        g.watch(y)\n",
    "        g.watch(z)\n",
    "\n",
    "        t = fn_target()\n",
    "        gradients = g.gradient(t, sources=[x,y,z])\n",
    "\n",
    "    #     sdg.apply_gradients(zip(gradients, [x,y]))\n",
    "\n",
    "        while abs(fn_target() - 0) >= 0.01:\n",
    "            i = i + 1\n",
    "            n = sdg.minimize(fn_target, var_list=[x,y,z])\n",
    "        \n",
    "print(f\"x={x.numpy()} y={y.numpy()} z={z.numpy()}\")\n",
    "# print(x,y)\n",
    "print(i)"
   ]
  },
  {
   "cell_type": "code",
   "execution_count": 2,
   "id": "0fccc445",
   "metadata": {},
   "outputs": [
    {
     "ename": "ModuleNotFoundError",
     "evalue": "No module named 'numba'",
     "output_type": "error",
     "traceback": [
      "\u001b[0;31m---------------------------------------------------------------------------\u001b[0m",
      "\u001b[0;31mModuleNotFoundError\u001b[0m                       Traceback (most recent call last)",
      "Cell \u001b[0;32mIn[2], line 1\u001b[0m\n\u001b[0;32m----> 1\u001b[0m \u001b[38;5;28;01mfrom\u001b[39;00m \u001b[38;5;21;01mnumba\u001b[39;00m \u001b[38;5;28;01mimport\u001b[39;00m jit, cuda\n\u001b[1;32m      2\u001b[0m \u001b[38;5;28;01mimport\u001b[39;00m \u001b[38;5;21;01mnumpy\u001b[39;00m \u001b[38;5;28;01mas\u001b[39;00m \u001b[38;5;21;01mnp\u001b[39;00m\n\u001b[1;32m      3\u001b[0m \u001b[38;5;66;03m# to measure exec time\u001b[39;00m\n",
      "\u001b[0;31mModuleNotFoundError\u001b[0m: No module named 'numba'"
     ]
    }
   ],
   "source": [
    "from numba import jit, cuda\n",
    "import numpy as np\n",
    "# to measure exec time\n",
    "from timeit import default_timer as timer   \n",
    "\n",
    "# normal function to run on cpu\n",
    "def func(a):                                \n",
    "    for i in range(10000000):\n",
    "        a[i]+= 1      \n",
    "\n",
    "# function optimized to run on gpu \n",
    "@jit(target_backend='cuda')                         \n",
    "def func2(a):\n",
    "    for i in range(10000000):\n",
    "        a[i]+= 1\n",
    "if __name__==\"__main__\":\n",
    "    n = 10000000                            \n",
    "    a = np.ones(n, dtype = np.float64)\n",
    "    \n",
    "    start = timer()\n",
    "    func(a)\n",
    "    print(\"without GPU:\", timer()-start)    \n",
    "    \n",
    "    start = timer()\n",
    "    func2(a)\n",
    "    print(\"with GPU:\", timer()-start)"
   ]
  },
  {
   "cell_type": "code",
   "execution_count": null,
   "id": "32b73a1c",
   "metadata": {},
   "outputs": [],
   "source": []
  },
  {
   "cell_type": "code",
   "execution_count": null,
   "id": "28264065",
   "metadata": {},
   "outputs": [],
   "source": []
  },
  {
   "cell_type": "code",
   "execution_count": null,
   "id": "f90b3687",
   "metadata": {},
   "outputs": [],
   "source": []
  },
  {
   "cell_type": "code",
   "execution_count": null,
   "id": "26185bd3",
   "metadata": {},
   "outputs": [],
   "source": []
  },
  {
   "cell_type": "code",
   "execution_count": null,
   "id": "86c1964f",
   "metadata": {},
   "outputs": [],
   "source": []
  }
 ],
 "metadata": {
  "kernelspec": {
   "display_name": "Python 3 (ipykernel)",
   "language": "python",
   "name": "python3"
  },
  "language_info": {
   "codemirror_mode": {
    "name": "ipython",
    "version": 3
   },
   "file_extension": ".py",
   "mimetype": "text/x-python",
   "name": "python",
   "nbconvert_exporter": "python",
   "pygments_lexer": "ipython3",
   "version": "3.8.0"
  }
 },
 "nbformat": 4,
 "nbformat_minor": 5
}
