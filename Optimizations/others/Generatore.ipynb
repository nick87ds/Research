{
 "cells": [
  {
   "cell_type": "code",
   "execution_count": 5,
   "id": "625f301f",
   "metadata": {},
   "outputs": [],
   "source": [
    "import numpy as np\n",
    "from scipy.optimize import curve_fit"
   ]
  },
  {
   "cell_type": "code",
   "execution_count": 215,
   "id": "139b7f7c",
   "metadata": {},
   "outputs": [
    {
     "data": {
      "text/plain": [
       "array([  1.,   2.,   3.,   4.,   5.,   6.,   7.,   8.,   9.,  10.,  11.,\n",
       "        12.,  13.,  14.,  15.,  16.,  17.,  18.,  19.,  20.,  21.,  22.,\n",
       "        23.,  24.,  25.,  26.,  27.,  28.,  29.,  30.,  31.,  32.,  33.,\n",
       "        34.,  35.,  36.,  37.,  38.,  39.,  40.,  41.,  42.,  43.,  44.,\n",
       "        45.,  46.,  47.,  48.,  49.,  50.,  51.,  52.,  53.,  54.,  55.,\n",
       "        56.,  57.,  58.,  59.,  60.,  61.,  62.,  63.,  64.,  65.,  66.,\n",
       "        67.,  68.,  69.,  70.,  71.,  72.,  73.,  74.,  75.,  76.,  77.,\n",
       "        78.,  79.,  80.,  81.,  82.,  83.,  84.,  85.,  86.,  87.,  88.,\n",
       "        89.,  90.,  91.,  92.,  93.,  94.,  95.,  96.,  97.,  98.,  99.,\n",
       "       100.])"
      ]
     },
     "execution_count": 215,
     "metadata": {},
     "output_type": "execute_result"
    }
   ],
   "source": [
    "x = np.linspace(1,100, num=100)\n",
    "x"
   ]
  },
  {
   "cell_type": "code",
   "execution_count": 216,
   "id": "11a0fa04",
   "metadata": {},
   "outputs": [
    {
     "data": {
      "text/plain": [
       "array([2.000e+00, 6.000e+00, 1.200e+01, 2.000e+01, 3.000e+01, 4.200e+01,\n",
       "       5.600e+01, 7.200e+01, 9.000e+01, 1.100e+02, 1.320e+02, 1.560e+02,\n",
       "       1.820e+02, 2.100e+02, 2.400e+02, 2.720e+02, 3.060e+02, 3.420e+02,\n",
       "       3.800e+02, 4.200e+02, 4.620e+02, 5.060e+02, 5.520e+02, 6.000e+02,\n",
       "       6.500e+02, 7.020e+02, 7.560e+02, 8.120e+02, 8.700e+02, 9.300e+02,\n",
       "       9.920e+02, 1.056e+03, 1.122e+03, 1.190e+03, 1.260e+03, 1.332e+03,\n",
       "       1.406e+03, 1.482e+03, 1.560e+03, 1.640e+03, 1.722e+03, 1.806e+03,\n",
       "       1.892e+03, 1.980e+03, 2.070e+03, 2.162e+03, 2.256e+03, 2.352e+03,\n",
       "       2.450e+03, 2.550e+03, 2.652e+03, 2.756e+03, 2.862e+03, 2.970e+03,\n",
       "       3.080e+03, 3.192e+03, 3.306e+03, 3.422e+03, 3.540e+03, 3.660e+03,\n",
       "       3.782e+03, 3.906e+03, 4.032e+03, 4.160e+03, 4.290e+03, 4.422e+03,\n",
       "       4.556e+03, 4.692e+03, 4.830e+03, 4.970e+03, 5.112e+03, 5.256e+03,\n",
       "       5.402e+03, 5.550e+03, 5.700e+03, 5.852e+03, 6.006e+03, 6.162e+03,\n",
       "       6.320e+03, 6.480e+03, 6.642e+03, 6.806e+03, 6.972e+03, 7.140e+03,\n",
       "       7.310e+03, 7.482e+03, 7.656e+03, 7.832e+03, 8.010e+03, 8.190e+03,\n",
       "       8.372e+03, 8.556e+03, 8.742e+03, 8.930e+03, 9.120e+03, 9.312e+03,\n",
       "       9.506e+03, 9.702e+03, 9.900e+03, 1.010e+04])"
      ]
     },
     "execution_count": 216,
     "metadata": {},
     "output_type": "execute_result"
    }
   ],
   "source": [
    "y = x+x**2#np.round(np.log(x)*10) + 1\n",
    "# y = x + np.log(x)\n",
    "y"
   ]
  },
  {
   "cell_type": "code",
   "execution_count": 219,
   "id": "719ad96d",
   "metadata": {},
   "outputs": [],
   "source": [
    "def obj_func(x, p1, p2, p3, p4):\n",
    "    \n",
    "#     f = p1*x+x**p2+p3\n",
    "\n",
    "    f = p1 + x**p2 + x**p3 + x**p4\n",
    "    \n",
    "    return f"
   ]
  },
  {
   "cell_type": "code",
   "execution_count": 220,
   "id": "fa876e70",
   "metadata": {},
   "outputs": [
    {
     "data": {
      "text/plain": [
       "array([-1.00001946e+00,  1.08676793e-05,  2.00000000e+00,  9.99999817e-01])"
      ]
     },
     "execution_count": 220,
     "metadata": {},
     "output_type": "execute_result"
    }
   ],
   "source": [
    "res = curve_fit(f=obj_func, xdata=x, ydata=y)\n",
    "res[0]"
   ]
  },
  {
   "cell_type": "code",
   "execution_count": 221,
   "id": "146afcd7",
   "metadata": {},
   "outputs": [],
   "source": [
    "def obj_func_fitted(x):\n",
    "    \n",
    "    print(x)\n",
    "#     return res[0][0]*x+x**res[0][1]+res[0][2]\n",
    "\n",
    "    return res[0][0] + x**res[0][1] + x**res[0][2] + x**res[0][3]"
   ]
  },
  {
   "cell_type": "code",
   "execution_count": 222,
   "id": "1dfdf36f",
   "metadata": {},
   "outputs": [
    {
     "name": "stdout",
     "output_type": "stream",
     "text": [
      "2.0\n",
      "5.9999878242871505\n",
      "6.0\n"
     ]
    }
   ],
   "source": [
    "idx = 1\n",
    "print(obj_func_fitted(x[idx]))\n",
    "print(y[idx])"
   ]
  },
  {
   "cell_type": "code",
   "execution_count": 150,
   "id": "90ac8c44",
   "metadata": {},
   "outputs": [],
   "source": [
    "# y[1]"
   ]
  },
  {
   "cell_type": "code",
   "execution_count": 151,
   "id": "ae33ac28",
   "metadata": {},
   "outputs": [],
   "source": [
    "# func1 = np.polyfit(x,y, deg=2)"
   ]
  },
  {
   "cell_type": "code",
   "execution_count": 152,
   "id": "8f50f7d2",
   "metadata": {},
   "outputs": [],
   "source": [
    "# params = func1"
   ]
  },
  {
   "cell_type": "code",
   "execution_count": 153,
   "id": "759a5375",
   "metadata": {},
   "outputs": [],
   "source": [
    "# params"
   ]
  },
  {
   "cell_type": "code",
   "execution_count": 202,
   "id": "2fc5e505",
   "metadata": {},
   "outputs": [
    {
     "data": {
      "text/plain": [
       "1.2181818181819437"
      ]
     },
     "execution_count": 202,
     "metadata": {},
     "output_type": "execute_result"
    }
   ],
   "source": [
    "y_hat = 0\n",
    "\n",
    "for i, param in enumerate(params):\n",
    "    \n",
    "    y_hat = y_hat + param * x[3]**i  \n",
    "    \n",
    "y_hat"
   ]
  }
 ],
 "metadata": {
  "kernelspec": {
   "display_name": "Python 3 (ipykernel)",
   "language": "python",
   "name": "python3"
  },
  "language_info": {
   "codemirror_mode": {
    "name": "ipython",
    "version": 3
   },
   "file_extension": ".py",
   "mimetype": "text/x-python",
   "name": "python",
   "nbconvert_exporter": "python",
   "pygments_lexer": "ipython3",
   "version": "3.8.0"
  }
 },
 "nbformat": 4,
 "nbformat_minor": 5
}
