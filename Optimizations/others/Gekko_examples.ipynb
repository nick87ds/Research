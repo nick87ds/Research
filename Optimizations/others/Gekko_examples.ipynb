{
 "cells": [
  {
   "cell_type": "code",
   "execution_count": 1,
   "id": "d0cb4636",
   "metadata": {},
   "outputs": [],
   "source": [
    "import numpy as np\n",
    "from gekko import GEKKO"
   ]
  },
  {
   "cell_type": "code",
   "execution_count": 2,
   "id": "92eea196",
   "metadata": {},
   "outputs": [],
   "source": [
    "m = GEKKO(remote=False)"
   ]
  },
  {
   "cell_type": "code",
   "execution_count": 3,
   "id": "235c65c7",
   "metadata": {},
   "outputs": [],
   "source": [
    "G,H = m.Array(m.Var, 2, lb=0, ub=10, integer=False)"
   ]
  },
  {
   "cell_type": "code",
   "execution_count": 4,
   "id": "76a1f872",
   "metadata": {},
   "outputs": [],
   "source": [
    "m.Maximize(100*G+125*H)"
   ]
  },
  {
   "cell_type": "code",
   "execution_count": 5,
   "id": "b066238a",
   "metadata": {},
   "outputs": [
    {
     "data": {
      "text/plain": [
       "<gekko.gekko.EquationObj at 0x7f019944b970>"
      ]
     },
     "execution_count": 5,
     "metadata": {},
     "output_type": "execute_result"
    }
   ],
   "source": [
    "m.Equation(3*G+6*H<=30)\n",
    "m.Equation(8*G+6*H<=44)"
   ]
  },
  {
   "cell_type": "code",
   "execution_count": 6,
   "id": "a1a57f83",
   "metadata": {},
   "outputs": [],
   "source": [
    "m.solve(disp=False)"
   ]
  },
  {
   "cell_type": "code",
   "execution_count": 7,
   "id": "70e3fbff",
   "metadata": {},
   "outputs": [
    {
     "name": "stdout",
     "output_type": "stream",
     "text": [
      "Soluzione ottimale: G = 2.80 , H = 3.60\n",
      "Valore massimo: 730.00\n"
     ]
    }
   ],
   "source": [
    "print(f'Soluzione ottimale: G = {G.value[0]:.2f} , H = {H.value[0]:.2f}')\n",
    "print(f'Valore massimo: {-m.options.OBJFCNVAL:.2f}')"
   ]
  },
  {
   "cell_type": "code",
   "execution_count": null,
   "id": "7484d131",
   "metadata": {},
   "outputs": [],
   "source": []
  },
  {
   "cell_type": "code",
   "execution_count": 8,
   "id": "c29ecb88",
   "metadata": {},
   "outputs": [
    {
     "name": "stdout",
     "output_type": "stream",
     "text": [
      "x: 2.0 y: 2.0 obj: 4.0\n"
     ]
    }
   ],
   "source": [
    "m = GEKKO(remote=False)\n",
    "\n",
    "x,y = m.Array(m.Var, 2, lb=0, integer=True)\n",
    "\n",
    "m.Equations([6*x+4*y<=24,\n",
    "            x+2*y<=6,\n",
    "            -x+y<=1,\n",
    "            y<=2])\n",
    "\n",
    "m.Maximize(x+y)\n",
    "\n",
    "m.options.SOLVER=1\n",
    "\n",
    "m.solve(disp=False)\n",
    "\n",
    "xopt = x.value[0]\n",
    "yopt = y.value[0]\n",
    "\n",
    "print(f'x: {xopt} y: {yopt} obj: {-m.options.OBJFCNVAL}')"
   ]
  },
  {
   "cell_type": "code",
   "execution_count": null,
   "id": "6136dbff",
   "metadata": {},
   "outputs": [],
   "source": []
  },
  {
   "cell_type": "markdown",
   "id": "77af496f",
   "metadata": {},
   "source": [
    "minimize\n",
    "    \n",
    "            xy^2 - x^2 - y^2\n",
    "\n",
    "subject to \n",
    " \n",
    "             x + y => 4\n",
    "              \n",
    "             xy <= 5\n",
    "              \n",
    "             1 <= x <= 3\n",
    "              \n",
    "             2 <= y <= 3"
   ]
  },
  {
   "cell_type": "code",
   "execution_count": 9,
   "id": "101b7489",
   "metadata": {},
   "outputs": [],
   "source": [
    "m = GEKKO(remote=False)\n",
    "\n",
    "X = m.Array(m.Var, 2, lb=1, ub=30, integer=False)\n",
    "# y = m.Array(m.Var, 1, lb=1, ub=3, integer=True)\n",
    "# y.LOWER = 2"
   ]
  },
  {
   "cell_type": "code",
   "execution_count": 10,
   "id": "4bf54cef",
   "metadata": {},
   "outputs": [],
   "source": [
    "for x in (X):\n",
    "    x.UPPER = 3"
   ]
  },
  {
   "cell_type": "code",
   "execution_count": 11,
   "id": "2f13e674",
   "metadata": {},
   "outputs": [],
   "source": [
    "x,y = X\n",
    "\n",
    "y.LOWER = 2"
   ]
  },
  {
   "cell_type": "code",
   "execution_count": 12,
   "id": "47bbf0d8",
   "metadata": {},
   "outputs": [],
   "source": [
    "m.Minimize(x*y**2-x**2-y**2)"
   ]
  },
  {
   "cell_type": "code",
   "execution_count": 13,
   "id": "de00b347",
   "metadata": {},
   "outputs": [
    {
     "data": {
      "text/plain": [
       "[<gekko.gekko.EquationObj at 0x7f01993f2130>,\n",
       " <gekko.gekko.EquationObj at 0x7f01993f22b0>]"
      ]
     },
     "execution_count": 13,
     "metadata": {},
     "output_type": "execute_result"
    }
   ],
   "source": [
    "m.Equations([x+y>=4,x*y<=5])"
   ]
  },
  {
   "cell_type": "code",
   "execution_count": 14,
   "id": "47eb69c1",
   "metadata": {},
   "outputs": [],
   "source": [
    "m.solve(disp=False)"
   ]
  },
  {
   "cell_type": "code",
   "execution_count": 15,
   "id": "3c28b3cc",
   "metadata": {},
   "outputs": [
    {
     "name": "stdout",
     "output_type": "stream",
     "text": [
      "x: 1.0 y: 3.0 obj: 1.0\n"
     ]
    }
   ],
   "source": [
    "xopt = x.value[0]\n",
    "yopt = y.value[0]\n",
    "\n",
    "print(f'x: {xopt} y: {yopt} obj: {-m.options.OBJFCNVAL}')"
   ]
  },
  {
   "cell_type": "code",
   "execution_count": null,
   "id": "fdf3b90f",
   "metadata": {},
   "outputs": [],
   "source": []
  },
  {
   "cell_type": "code",
   "execution_count": 16,
   "id": "28f090d4",
   "metadata": {},
   "outputs": [],
   "source": [
    "# Object function\n",
    "c = [-1, 4] # -x +4y"
   ]
  },
  {
   "cell_type": "code",
   "execution_count": 17,
   "id": "1fcde326",
   "metadata": {},
   "outputs": [],
   "source": [
    "# Constraints\n",
    "A_u = np.array([[3,2],[1,5]])\n",
    "b_u = np.array([10, 10])"
   ]
  },
  {
   "cell_type": "code",
   "execution_count": 18,
   "id": "cb733b9c",
   "metadata": {},
   "outputs": [],
   "source": [
    "x = m.Array(m.Var, 2, lb=0, ub=10, integer=True)"
   ]
  },
  {
   "cell_type": "code",
   "execution_count": 19,
   "id": "c0a0ee03",
   "metadata": {},
   "outputs": [],
   "source": [
    "m.Minimize(c@x)"
   ]
  },
  {
   "cell_type": "code",
   "execution_count": 20,
   "id": "2390f825",
   "metadata": {},
   "outputs": [
    {
     "data": {
      "text/plain": [
       "(((-1)*(int_v3))+((4)*(int_v4)))"
      ]
     },
     "execution_count": 20,
     "metadata": {},
     "output_type": "execute_result"
    }
   ],
   "source": [
    "c@x"
   ]
  },
  {
   "cell_type": "code",
   "execution_count": 21,
   "id": "ab546919",
   "metadata": {},
   "outputs": [
    {
     "data": {
      "text/plain": [
       "'int_v3'"
      ]
     },
     "execution_count": 21,
     "metadata": {},
     "output_type": "execute_result"
    }
   ],
   "source": [
    "x[0].name"
   ]
  },
  {
   "cell_type": "code",
   "execution_count": 22,
   "id": "48536945",
   "metadata": {},
   "outputs": [
    {
     "data": {
      "text/plain": [
       "array([(((3)*(int_v3))+((2)*(int_v4))), (((1)*(int_v3))+((5)*(int_v4)))],\n",
       "      dtype=object)"
      ]
     },
     "execution_count": 22,
     "metadata": {},
     "output_type": "execute_result"
    }
   ],
   "source": [
    "A_u@x"
   ]
  },
  {
   "cell_type": "code",
   "execution_count": 23,
   "id": "e9918c34",
   "metadata": {},
   "outputs": [],
   "source": [
    "Ax = A_u@x"
   ]
  },
  {
   "cell_type": "code",
   "execution_count": 24,
   "id": "ae9667d2",
   "metadata": {},
   "outputs": [
    {
     "data": {
      "text/plain": [
       "[<gekko.gekko.EquationObj at 0x7f01993fcfa0>,\n",
       " <gekko.gekko.EquationObj at 0x7f01993fcfd0>]"
      ]
     },
     "execution_count": 24,
     "metadata": {},
     "output_type": "execute_result"
    }
   ],
   "source": [
    "m.Equations([Ax[i]<=b_u[i] for i in range(len(b_u))])"
   ]
  },
  {
   "cell_type": "code",
   "execution_count": 25,
   "id": "68213915",
   "metadata": {},
   "outputs": [],
   "source": [
    "m.options.SOLVER=1"
   ]
  },
  {
   "cell_type": "code",
   "execution_count": 26,
   "id": "95e58a22",
   "metadata": {},
   "outputs": [],
   "source": [
    "m.solve(disp=False)"
   ]
  },
  {
   "cell_type": "code",
   "execution_count": 27,
   "id": "84227e96",
   "metadata": {},
   "outputs": [
    {
     "name": "stdout",
     "output_type": "stream",
     "text": [
      "x: 3.0 y: 0.0 obj: 4.0\n"
     ]
    }
   ],
   "source": [
    "xopt, yopt = x[0].value[0], x[1].value[0]\n",
    "\n",
    "print(f'x: {xopt} y: {yopt} obj: {-m.options.OBJFCNVAL}')"
   ]
  },
  {
   "cell_type": "code",
   "execution_count": null,
   "id": "9908f466",
   "metadata": {},
   "outputs": [],
   "source": []
  },
  {
   "cell_type": "markdown",
   "id": "d76db41a",
   "metadata": {},
   "source": [
    "## Global optimization"
   ]
  },
  {
   "cell_type": "markdown",
   "id": "b52abede",
   "metadata": {},
   "source": [
    "minimize = 100 -x1^2 .........."
   ]
  },
  {
   "cell_type": "code",
   "execution_count": 30,
   "id": "8c8f232a",
   "metadata": {},
   "outputs": [],
   "source": [
    "from hyperopt import fmin, tpe, hp\n",
    "from hyperopt import STATUS_OK, STATUS_FAIL"
   ]
  },
  {
   "cell_type": "code",
   "execution_count": 29,
   "id": "07b6f041",
   "metadata": {},
   "outputs": [],
   "source": [
    "# hyperopt.hp.quniform, hyperopt.hp.qloguniform\n",
    "# hyperopt.hp.choice\n",
    "# hyperopt.hp.randint"
   ]
  },
  {
   "cell_type": "code",
   "execution_count": 48,
   "id": "f6347f69",
   "metadata": {},
   "outputs": [],
   "source": [
    "# hyperparameters space\n",
    "space = {\n",
    "    \n",
    "    'x1':hp.quniform('x1', 0, 10, 3),\n",
    "    'x2':hp.quniform('x2', 0, 10, 3),\n",
    "    'x3':hp.quniform('x3', 0, 10, 3),\n",
    "}"
   ]
  },
  {
   "cell_type": "code",
   "execution_count": 80,
   "id": "3503ee8c",
   "metadata": {},
   "outputs": [],
   "source": [
    "def objective(params):\n",
    "    \n",
    "    m = GEKKO(remote=False)\n",
    "    \n",
    "    x = m.Array(m.Var, 3, lb=0, integer=True)\n",
    "    x1,x2,x3 = x\n",
    "    \n",
    "    x1.value = params['x1']\n",
    "    x2.value = params['x2']\n",
    "    x3.value = params['x3']\n",
    "\n",
    "    m.Minimize(1000-x1**2+(1/x2**2))\n",
    "    \n",
    "    m.Equations([x1>=0, x2>0, x3-x2>=1])\n",
    "    \n",
    "    m.options.SOLVER=1\n",
    "    \n",
    "    m.solve(disp=False, debug=False)\n",
    "    \n",
    "    obj = m.options.OBJFCNVAL\n",
    "    \n",
    "    if m.options.APPSTATUS==1:\n",
    "        s=STATUS_OK\n",
    "    else:\n",
    "        s=STATUS_FAIL\n",
    "        \n",
    "    m.cleanup()\n",
    "    \n",
    "    return {'loss':obj, 'status':s, 'x':x}"
   ]
  },
  {
   "cell_type": "code",
   "execution_count": 81,
   "id": "d661b388",
   "metadata": {},
   "outputs": [
    {
     "name": "stdout",
     "output_type": "stream",
     "text": [
      "100%|██████████████████████████████████████████████████████████████████████████████████████████████████████████████████████████████████████████| 50/50 [00:02<00:00, 22.33trial/s, best loss: 919.01234568]\n"
     ]
    }
   ],
   "source": [
    "best = fmin(objective, space, algo=tpe.suggest, max_evals=50)"
   ]
  },
  {
   "cell_type": "code",
   "execution_count": 82,
   "id": "24e1582d",
   "metadata": {},
   "outputs": [
    {
     "name": "stdout",
     "output_type": "stream",
     "text": [
      "{'x1': 0.0, 'x2': 9.0, 'x3': 0.0}\n"
     ]
    }
   ],
   "source": [
    "print(best)"
   ]
  },
  {
   "cell_type": "code",
   "execution_count": 83,
   "id": "ec896e13",
   "metadata": {},
   "outputs": [],
   "source": [
    "sol = objective(best)"
   ]
  },
  {
   "cell_type": "code",
   "execution_count": 84,
   "id": "f29579a5",
   "metadata": {},
   "outputs": [
    {
     "name": "stdout",
     "output_type": "stream",
     "text": [
      "{'loss': 1000.0002778, 'status': 'ok', 'x': array([[0.0], [60.0], [61.0]], dtype=object)}\n"
     ]
    }
   ],
   "source": [
    "print(sol)"
   ]
  },
  {
   "cell_type": "code",
   "execution_count": 88,
   "id": "d61dab3c",
   "metadata": {},
   "outputs": [
    {
     "data": {
      "text/plain": [
       "0.0002777777777777778"
      ]
     },
     "execution_count": 88,
     "metadata": {},
     "output_type": "execute_result"
    }
   ],
   "source": [
    "0**2+(1/(60**2))"
   ]
  }
 ],
 "metadata": {
  "kernelspec": {
   "display_name": "Python 3 (ipykernel)",
   "language": "python",
   "name": "python3"
  },
  "language_info": {
   "codemirror_mode": {
    "name": "ipython",
    "version": 3
   },
   "file_extension": ".py",
   "mimetype": "text/x-python",
   "name": "python",
   "nbconvert_exporter": "python",
   "pygments_lexer": "ipython3",
   "version": "3.8.0"
  }
 },
 "nbformat": 4,
 "nbformat_minor": 5
}
